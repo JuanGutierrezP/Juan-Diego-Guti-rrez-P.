{
  "nbformat": 4,
  "nbformat_minor": 0,
  "metadata": {
    "colab": {
      "provenance": [],
      "authorship_tag": "ABX9TyMhmDUUHiXPhUfQYjI4vSk3",
      "include_colab_link": true
    },
    "kernelspec": {
      "name": "python3",
      "display_name": "Python 3"
    },
    "language_info": {
      "name": "python"
    }
  },
  "cells": [
    {
      "cell_type": "markdown",
      "metadata": {
        "id": "view-in-github",
        "colab_type": "text"
      },
      "source": [
        "<a href=\"https://colab.research.google.com/github/JuanGutierrezP/Juan_Guti-rrez-Joseph_Reyes/blob/main/Tarea_Integraci%C3%B3nsem7.ipynb\" target=\"_parent\"><img src=\"https://colab.research.google.com/assets/colab-badge.svg\" alt=\"Open In Colab\"/></a>"
      ]
    },
    {
      "cell_type": "code",
      "execution_count": null,
      "metadata": {
        "id": "oWjNeAxsHU9D"
      },
      "outputs": [],
      "source": []
    },
    {
      "cell_type": "code",
      "source": [],
      "metadata": {
        "id": "HN2wocuPHd6t"
      },
      "execution_count": null,
      "outputs": []
    },
    {
      "cell_type": "code",
      "source": [],
      "metadata": {
        "id": "IIZJH4EHHd_U"
      },
      "execution_count": null,
      "outputs": []
    },
    {
      "cell_type": "code",
      "source": [],
      "metadata": {
        "id": "nobEwZTQHeDO"
      },
      "execution_count": null,
      "outputs": []
    },
    {
      "cell_type": "code",
      "source": [],
      "metadata": {
        "id": "KlgbEyqXHeGW"
      },
      "execution_count": null,
      "outputs": []
    },
    {
      "cell_type": "code",
      "source": [
        "#Punto 15\n",
        "#aproximación cuadratura Gaussiana\n",
        "import numpy as np\n",
        "import matplotlib.pyplot as plt\n",
        "from scipy.special import legendre\n",
        "\n",
        "def ceros_20(n):\n",
        "    x = np.linspace(-1, 1, 400)\n",
        "    P = legendre(n)\n",
        "    roots = x[np.isclose(P(x), 0, atol=1e-12)]\n",
        "    return roots\n",
        "\n",
        "for i in range(20):\n",
        "  cero = ceros_20(i)\n",
        "  print(f\"Zeros of Legendre polynomial of degree {i}: {cero}\")"
      ],
      "metadata": {
        "colab": {
          "base_uri": "https://localhost:8080/"
        },
        "id": "qWrjY7v_HeQE",
        "outputId": "1e334dd5-3125-4bc7-ee09-9137ff0810c7"
      },
      "execution_count": 2,
      "outputs": [
        {
          "output_type": "stream",
          "name": "stdout",
          "text": [
            "Zeros of Legendre polynomial of degree 0: []\n",
            "Zeros of Legendre polynomial of degree 1: []\n",
            "Zeros of Legendre polynomial of degree 2: []\n",
            "Zeros of Legendre polynomial of degree 3: []\n",
            "Zeros of Legendre polynomial of degree 4: []\n",
            "Zeros of Legendre polynomial of degree 5: []\n",
            "Zeros of Legendre polynomial of degree 6: []\n",
            "Zeros of Legendre polynomial of degree 7: []\n",
            "Zeros of Legendre polynomial of degree 8: []\n",
            "Zeros of Legendre polynomial of degree 9: []\n",
            "Zeros of Legendre polynomial of degree 10: []\n",
            "Zeros of Legendre polynomial of degree 11: []\n",
            "Zeros of Legendre polynomial of degree 12: []\n",
            "Zeros of Legendre polynomial of degree 13: []\n",
            "Zeros of Legendre polynomial of degree 14: []\n",
            "Zeros of Legendre polynomial of degree 15: []\n",
            "Zeros of Legendre polynomial of degree 16: []\n",
            "Zeros of Legendre polynomial of degree 17: []\n",
            "Zeros of Legendre polynomial of degree 18: []\n",
            "Zeros of Legendre polynomial of degree 19: []\n"
          ]
        }
      ]
    },
    {
      "cell_type": "code",
      "source": [
        "#Punto 16"
      ],
      "metadata": {
        "id": "ImlT7CLzI7DU"
      },
      "execution_count": null,
      "outputs": []
    },
    {
      "cell_type": "code",
      "source": [
        "#Punto 17"
      ],
      "metadata": {
        "id": "xQfWOGR-JAU2"
      },
      "execution_count": null,
      "outputs": []
    },
    {
      "cell_type": "code",
      "source": [
        "#Punto 21\n"
      ],
      "metadata": {
        "id": "8YS8sjrrJAeM"
      },
      "execution_count": null,
      "outputs": []
    }
  ]
}