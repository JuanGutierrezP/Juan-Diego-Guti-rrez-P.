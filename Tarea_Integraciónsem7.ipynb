{
  "nbformat": 4,
  "nbformat_minor": 0,
  "metadata": {
    "colab": {
      "provenance": [],
      "toc_visible": true,
      "include_colab_link": true
    },
    "kernelspec": {
      "name": "python3",
      "display_name": "Python 3"
    },
    "language_info": {
      "name": "python"
    }
  },
  "cells": [
    {
      "cell_type": "markdown",
      "metadata": {
        "id": "view-in-github",
        "colab_type": "text"
      },
      "source": [
        "<a href=\"https://colab.research.google.com/github/JuanGutierrezP/Juan_Guti-rrez-Joseph_Reyes/blob/main/Tarea_Integraci%C3%B3nsem7.ipynb\" target=\"_parent\"><img src=\"https://colab.research.google.com/assets/colab-badge.svg\" alt=\"Open In Colab\"/></a>"
      ]
    },
    {
      "cell_type": "code",
      "execution_count": 31,
      "metadata": {
        "id": "oWjNeAxsHU9D",
        "colab": {
          "base_uri": "https://localhost:8080/"
        },
        "outputId": "1a8d3db6-9a2c-4c43-b625-7ce88ef77e00"
      },
      "outputs": [
        {
          "output_type": "stream",
          "name": "stdout",
          "text": [
            "Número de intervalos necesarios: n = 6\n",
            "Valor aproximado de la integral: 0.74512\n",
            "Valor exacto de la integral: 0.74682\n",
            "Error real: 0.00170\n"
          ]
        },
        {
          "output_type": "stream",
          "name": "stderr",
          "text": [
            "<ipython-input-31-8425c40a1164>:44: DeprecationWarning: `np.math` is a deprecated alias for the standard library `math` module (Deprecated Numpy 1.25). Replace usages of `np.math` with `math`\n",
            "  valor_exacto = (np.sqrt(np.pi) / 2) * np.math.erf(1)\n"
          ]
        }
      ],
      "source": [
        "#Punto 5\n",
        "import numpy as np\n",
        "\n",
        "# Definir la función a integrar\n",
        "def f(x):\n",
        "    return np.exp(-x**2)\n",
        "\n",
        "# Definir la segunda derivada de f(x)\n",
        "def f_double_prime(x):\n",
        "    return np.exp(-x**2) * (4*x**2 - 2)\n",
        "\n",
        "# Función para calcular el máximo de |f''(x)| en el intervalo [a, b]\n",
        "def max_f_double_prime(a, b):\n",
        "    # Generamos una gran cantidad de puntos para estimar el máximo\n",
        "    x = np.linspace(a, b, 1000)\n",
        "    f_pp = np.abs(f_double_prime(x))\n",
        "    return np.max(f_pp)\n",
        "\n",
        "# Implementación del método del trapecio\n",
        "def metodo_trapecio(f, a, b, n):\n",
        "    h = (b - a) / n  # Ancho de los subintervalos\n",
        "    x = np.linspace(a, b, n + 1)  # Puntos equiespaciados en [a, b]\n",
        "    fx = f(x)\n",
        "    integral = (h / 2) * (fx[0] + 2 * np.sum(fx[1:-1]) + fx[-1])\n",
        "    return integral\n",
        "\n",
        "# Datos iniciales\n",
        "a = 0\n",
        "b = 1\n",
        "error_deseado = 0.005\n",
        "\n",
        "# Calcular el número mínimo de intervalos n\n",
        "M = max_f_double_prime(a, b)\n",
        "n = int(np.ceil(np.sqrt(((b - a)**3 * M) / (12 * error_deseado))))\n",
        "\n",
        "print(f\"Número de intervalos necesarios: n = {n}\")\n",
        "\n",
        "\n",
        "integral_aprox = metodo_trapecio(f, a, b, n)\n",
        "\n",
        "print(f\"Valor aproximado de la integral: {integral_aprox:.5f}\")\n",
        "\n",
        "# Valor exacto utilizando la función de error (erf)\n",
        "valor_exacto = (np.sqrt(np.pi) / 2) * np.math.erf(1)\n",
        "\n",
        "# Cálculo del error absoluto\n",
        "error_real = np.abs(valor_exacto - integral_aprox)\n",
        "\n",
        "print(f\"Valor exacto de la integral: {valor_exacto:.5f}\")\n",
        "print(f\"Error real: {error_real:.5f}\")\n"
      ]
    },
    {
      "cell_type": "code",
      "source": [
        "#Punto 6\n",
        "\n",
        "import numpy as np\n",
        "\n",
        "# Parámetros\n",
        "R = 0.5     # cm\n",
        "a = 0.01    # cm\n",
        "\n",
        "\n",
        "def f(x, a, R):\n",
        "    return np.sqrt(a**2 - x**2) / (R + x)\n",
        "\n",
        "# Método del trapecio\n",
        "def metodo_trapecio(f, a_lim, b_lim, n, a, R):\n",
        "    h = (b_lim - a_lim) / n\n",
        "    suma = 0.5 * f(a_lim, a, R) + 0.5 * f(b_lim, a, R)\n",
        "    for i in range(1, n):\n",
        "        x_i = a_lim + i * h\n",
        "        suma += f(x_i, a, R)\n",
        "    return h * suma\n",
        "\n",
        "# Regla de Simpson 1/3\n",
        "def regla_simpson(f, a_lim, b_lim, n, a, R):\n",
        "    if n % 2 != 0:\n",
        "        n += 1  # Simpson requiere n par\n",
        "    h = (b_lim - a_lim) / n\n",
        "    suma = f(a_lim, a, R) + f(b_lim, a, R)\n",
        "    for i in range(1, n):\n",
        "        x_i = a_lim + i * h\n",
        "        coef = 4 if i % 2 != 0 else 2\n",
        "        suma += coef * f(x_i, a, R)\n",
        "    return (h / 3) * suma\n",
        "\n",
        "# Valor exacto de la integral\n",
        "I_exacto = np.pi * (R - np.sqrt(R**2 - a**2))\n",
        "\n",
        "# Límites de integración\n",
        "a_lim = -a\n",
        "b_lim = a\n",
        "\n",
        "# Error permitido\n",
        "error_permitido = 0.5  # Porcentaje\n",
        "\n",
        "# Método del trapecio\n",
        "n_trapecio = 2\n",
        "error_trapecio = 100\n",
        "while error_trapecio > error_permitido:\n",
        "    I_trapecio = metodo_trapecio(f, a_lim, b_lim, n_trapecio, a, R)\n",
        "    error_trapecio = abs((I_trapecio - I_exacto) / I_exacto) * 100\n",
        "    n_trapecio += 2\n",
        "\n",
        "# Regla de Simpson\n",
        "n_simpson = 2\n",
        "error_simpson = 100\n",
        "while error_simpson > error_permitido:\n",
        "    I_simpson = regla_simpson(f, a_lim, b_lim, n_simpson, a, R)\n",
        "    error_simpson = abs((I_simpson - I_exacto) / I_exacto) * 100\n",
        "    n_simpson += 2\n",
        "\n",
        "# Resultados\n",
        "print(f\"Valor exacto de la integral: {I_exacto:.12f}\")\n",
        "print(\"\\nMétodo del Trapecio:\")\n",
        "print(f\" - Número de subintervalos (n): {n_trapecio}\")\n",
        "print(f\" - Valor aproximado: {I_trapecio:.12f}\")\n",
        "print(f\" - Error porcentual: {error_trapecio:.6f}%\")\n",
        "\n",
        "print(\"\\nRegla de Simpson 1/3:\")\n",
        "print(f\" - Número de subintervalos (n): {n_simpson}\")\n",
        "print(f\" - Valor aproximado: {I_simpson:.12f}\")\n",
        "print(f\" - Error porcentual: {error_simpson:.6f}%\")\n"
      ],
      "metadata": {
        "id": "HN2wocuPHd6t",
        "colab": {
          "base_uri": "https://localhost:8080/"
        },
        "outputId": "6e280aa2-b225-4266-9b31-1ade3c96afd6"
      },
      "execution_count": 32,
      "outputs": [
        {
          "output_type": "stream",
          "name": "stdout",
          "text": [
            "Valor exacto de la integral: 0.000314190688\n",
            "\n",
            "Método del Trapecio:\n",
            " - Número de subintervalos (n): 38\n",
            " - Valor aproximado: 0.000312652799\n",
            " - Error porcentual: 0.489476%\n",
            "\n",
            "Regla de Simpson 1/3:\n",
            " - Número de subintervalos (n): 22\n",
            " - Valor aproximado: 0.000312731632\n",
            " - Error porcentual: 0.464385%\n"
          ]
        }
      ]
    },
    {
      "cell_type": "code",
      "source": [
        "# Punto 7\n",
        "\n",
        "import numpy as np\n",
        "\n",
        "def calcular_volumen(n):\n",
        "    R = 1.0\n",
        "    # Crear una grilla entre -R y R con n+1 puntos en cada eje\n",
        "    x = np.linspace(-R, R, n+1)\n",
        "    y = np.linspace(-R, R, n+1)\n",
        "    dx = x[1] - x[0]\n",
        "    dy = y[1] - y[0]\n",
        "    area = dx * dy\n",
        "    volumen = 0.0\n",
        "    for i in range(n):\n",
        "        for j in range(n):\n",
        "            # Coordenadas de los cuatro vértices del cuadrado pequeño\n",
        "            xi0 = x[i]\n",
        "            xi1 = x[i+1]\n",
        "            yj0 = y[j]\n",
        "            yj1 = y[j+1]\n",
        "            puntos = [(xi0, yj0), (xi1, yj0), (xi0, yj1), (xi1, yj1)]\n",
        "            valores_z = []\n",
        "            for (xi, yj) in puntos:\n",
        "                # toca calcular el argumento de la raíz cuadrada\n",
        "                arg = R**2 - xi**2 - yj**2\n",
        "\n",
        "                if arg >= 0:\n",
        "                    z = np.sqrt(np.maximum(0, arg))\n",
        "                else:\n",
        "                    z = 0.0\n",
        "                valores_z.append(z)\n",
        "\n",
        "            z_promedio = sum(valores_z) / 4.0\n",
        "            # Multiplicar por el área del cuadrado pequeño y sumar al volumen total\n",
        "            volumen += z_promedio * area\n",
        "    return volumen\n",
        "\n",
        "# Volumen exacto de la semiesfera para comparación\n",
        "R = 1.0\n",
        "V_exacto = (2.0/3.0) * np.pi * R**3\n",
        "\n",
        "# Calcular y mostrar el volumen para diferentes valores de n cualesquiera\n",
        "for n in [10, 20, 40, 80, 160]:\n",
        "    V_numerico = calcular_volumen(n)\n",
        "    error = abs(V_numerico - V_exacto)\n",
        "    print(f\"n = {n}, volumen numérico = {V_numerico:.6f}, Error de cada una= {error:.6e}\")\n",
        "\n"
      ],
      "metadata": {
        "id": "IIZJH4EHHd_U",
        "colab": {
          "base_uri": "https://localhost:8080/"
        },
        "outputId": "d098ff93-d956-460d-efa9-dbf5afac5adc"
      },
      "execution_count": 35,
      "outputs": [
        {
          "output_type": "stream",
          "name": "stdout",
          "text": [
            "n = 10, volumen numérico = 2.017398, Error de cada una= 7.699748e-02\n",
            "n = 20, volumen numérico = 2.080695, Error de cada una= 1.370039e-02\n",
            "n = 40, volumen numérico = 2.091777, Error de cada una= 2.618465e-03\n",
            "n = 80, volumen numérico = 2.093945, Error de cada una= 4.499396e-04\n",
            "n = 160, volumen numérico = 2.094148, Error de cada una= 2.474086e-04\n"
          ]
        }
      ]
    },
    {
      "cell_type": "code",
      "source": [
        "#Punto 9\n",
        "import sympy as sp\n",
        "\n",
        "# Definir variables simbólicas\n",
        "x, a, b = sp.symbols('x a b')\n",
        "h = (b - a) / 3\n",
        "\n",
        "# Puntos de interpolación\n",
        "x0 = a\n",
        "x1 = a + h\n",
        "x2 = a + 2*h\n",
        "x3 = b\n",
        "\n",
        "# Valores de la función en los puntos\n",
        "f0 = sp.Function('f')(x0)\n",
        "f1 = sp.Function('f')(x1)\n",
        "f2 = sp.Function('f')(x2)\n",
        "f3 = sp.Function('f')(x3)\n",
        "\n",
        "\n",
        "x_values = [x0, x1, x2, x3]\n",
        "f_values = [f0, f1, f2, f3]\n",
        "\n",
        "# Calcular las funciones cardinales L_i(x)\n",
        "L = []\n",
        "for i in range(4):\n",
        "    numerator = 1\n",
        "    denominator = 1\n",
        "    for j in range(4):\n",
        "        if i != j:\n",
        "            numerator *= (x - x_values[j])\n",
        "            denominator *= (x_values[i] - x_values[j])\n",
        "    L_i = (numerator / denominator).simplify()\n",
        "    L.append(L_i)\n",
        "\n",
        "# Aproximación de f(x) mediante el polinomio interpolador\n",
        "P = sum(f_values[i] * L[i] for i in range(4))\n",
        "\n",
        "# Calcular la integral aproximada\n",
        "integral_approx = sp.integrate(P, (x, a, b)).simplify()\n",
        "\n",
        "# Expresión final de la integral aproximada\n",
        "expr = integral_approx.factor()\n",
        "\n",
        "\n",
        "print(\"a) La integral aproximada es:\")\n",
        "sp.pprint(expr)\n",
        "\n",
        "# Verificar que coincide\n",
        "simplified_expr = ((3*h)/8)*(f0 + 3*f1 + 3*f2 + f3)\n",
        "print(\"\\nVerificación de la fórmula:\")\n",
        "sp.pprint(simplified_expr)\n",
        "\n",
        "\n",
        "print(\"\\n¿Las expresiones son iguales?\")\n",
        "print(sp.simplify(expr - simplified_expr) == 0)\n",
        "\n",
        "x1_simplified = (a + h).simplify()\n",
        "x2_simplified = (a + 2*h).simplify()\n",
        "\n",
        "print(\"\\nb) Los puntos intermedios son:\")\n",
        "print(\"x1 =\", x1_simplified, \"=\", sp.simplify((2*a + b)/3))\n",
        "print(\"x2 =\", x2_simplified, \"=\", sp.simplify((a + 2*b)/3))\n"
      ],
      "metadata": {
        "id": "nobEwZTQHeDO",
        "colab": {
          "base_uri": "https://localhost:8080/"
        },
        "outputId": "4d517aca-d0b2-40ff-802c-6ce97074203e"
      },
      "execution_count": null,
      "outputs": [
        {
          "output_type": "stream",
          "name": "stdout",
          "text": [
            "a) La integral aproximada es:\n",
            "         ⎛                 ⎛a   2⋅b⎞      ⎛2⋅a   b⎞⎞ \n",
            "-(a - b)⋅⎜f(a) + f(b) + 3⋅f⎜─ + ───⎟ + 3⋅f⎜─── + ─⎟⎟ \n",
            "         ⎝                 ⎝3    3 ⎠      ⎝ 3    3⎠⎠ \n",
            "─────────────────────────────────────────────────────\n",
            "                          8                          \n",
            "\n",
            "Verificación de la fórmula:\n",
            "⎛  a   b⎞ ⎛                 ⎛a   2⋅b⎞      ⎛2⋅a   b⎞⎞\n",
            "⎜- ─ + ─⎟⋅⎜f(a) + f(b) + 3⋅f⎜─ + ───⎟ + 3⋅f⎜─── + ─⎟⎟\n",
            "⎝  8   8⎠ ⎝                 ⎝3    3 ⎠      ⎝ 3    3⎠⎠\n",
            "\n",
            "¿Las expresiones son iguales?\n",
            "True\n",
            "\n",
            "b) Los puntos intermedios son:\n",
            "x1 = 2*a/3 + b/3 = 2*a/3 + b/3\n",
            "x2 = a/3 + 2*b/3 = a/3 + 2*b/3\n"
          ]
        }
      ]
    },
    {
      "cell_type": "code",
      "source": [
        "#Punto 10\n",
        "import numpy as np\n",
        "from scipy import integrate  # Importar el método correcto\n",
        "\n",
        "# Define the function\n",
        "def integral_libro(x, h):\n",
        "    return (x**4) - (6*x**3*h)+ (11*x**2*h**2) - (6*x*h**3)\n",
        "def f_fourth_derivative(x, h):\n",
        "    return 24*x - 72*h\n",
        "def integral_wrapper(h):\n",
        "    def inner_integral(x):\n",
        "        return integral_libro(x, h)\n",
        "    I, _ = integrate.quad(inner_integral, 0, 3*h)\n",
        "    xi = 1.5*h\n",
        "    f_fourth_derivative_val = f_fourth_derivative(xi, h)\n",
        "    E = (3*h**4 / 80) * np.abs(f_fourth_derivative_val)\n",
        "    return E\n",
        "h = 0.1\n",
        "Error = integral_wrapper(h)\n",
        "print(\"El error es:\", Error)"
      ],
      "metadata": {
        "id": "KlgbEyqXHeGW",
        "colab": {
          "base_uri": "https://localhost:8080/"
        },
        "outputId": "c51447bc-4931-4bd9-d3aa-2d81bd7b8156"
      },
      "execution_count": null,
      "outputs": [
        {
          "output_type": "stream",
          "name": "stdout",
          "text": [
            "El error es: 1.3500000000000001e-05\n"
          ]
        }
      ]
    },
    {
      "cell_type": "code",
      "source": [
        "#Punto 15\n",
        "#aproximación cuadratura Gaussiana\n",
        "import numpy as np\n",
        "import matplotlib.pyplot as plt\n",
        "from scipy.special import roots_legendre\n",
        "\n",
        "def gauss_cuadratura(n):\n",
        "    x, w = roots_legendre(n)\n",
        "    return x, w\n",
        "\n",
        "n = 20\n",
        "x, w = gauss_cuadratura(n)\n",
        "print(\"Ceros del polinomio de Legendre hasta\", n, \": \", x)\n",
        "print(\"Pesos de ponderación de Gaus hasta \",n,\":\", w)"
      ],
      "metadata": {
        "colab": {
          "base_uri": "https://localhost:8080/"
        },
        "id": "qWrjY7v_HeQE",
        "outputId": "f8797c4a-8c12-468d-f0c6-35576498babc"
      },
      "execution_count": 34,
      "outputs": [
        {
          "output_type": "stream",
          "name": "stdout",
          "text": [
            "Ceros del polinomio de Legendre hasta 20 :  [-0.9931286  -0.96397193 -0.91223443 -0.83911697 -0.74633191 -0.63605368\n",
            " -0.510867   -0.37370609 -0.22778585 -0.07652652  0.07652652  0.22778585\n",
            "  0.37370609  0.510867    0.63605368  0.74633191  0.83911697  0.91223443\n",
            "  0.96397193  0.9931286 ]\n",
            "Pesos de ponderación de Gaus hasta  20 : [0.01761401 0.04060143 0.06267205 0.08327674 0.10193012 0.11819453\n",
            " 0.13168864 0.14209611 0.14917299 0.15275339 0.15275339 0.14917299\n",
            " 0.14209611 0.13168864 0.11819453 0.10193012 0.08327674 0.06267205\n",
            " 0.04060143 0.01761401]\n"
          ]
        }
      ]
    },
    {
      "cell_type": "code",
      "source": [
        "#Punto 16\n",
        "import numpy as np\n",
        "from scipy.special import roots_legendre\n",
        "\n",
        "def f(x):\n",
        "    return 1 / (x**4 + 1)\n",
        "\n",
        "def transformed_f(t):\n",
        "    return (1 - t)*2 / ((t + 1)*4 + (1 - t)*4)\n",
        "\n",
        "# intervalo [-1, 1]\n",
        "def integral_part1(n):\n",
        "    x, w = roots_legendre(n)\n",
        "    inter_t_x = (x + 1) / (1 - x)  # Transformar el intervalo\n",
        "    return np.sum(w * f(inter_t_x) / (1 - x)**2)\n",
        "\n",
        "# intervalo [0, infinito]\n",
        "def integral_part2(n):\n",
        "    x, w = roots_legendre(n)\n",
        "    transformed_x = 1 / x\n",
        "    return np.sum(w * f(transformed_x) / (x**2 * transformed_x**2))\n",
        "\n",
        "n = 10\n",
        "\n",
        "# Calcular cada parte de la integral\n",
        "approximation_part1 = integral_part1(n)\n",
        "approximation_part2 = integral_part2(n)\n",
        "\n",
        "\n",
        "approximation = approximation_part1 + approximation_part2\n",
        "print(\"Integral Aproximada:\", approximation)"
      ],
      "metadata": {
        "id": "ImlT7CLzI7DU",
        "colab": {
          "base_uri": "https://localhost:8080/"
        },
        "outputId": "f7b4d988-72c6-426c-afb1-b864b2c2e8a5"
      },
      "execution_count": 36,
      "outputs": [
        {
          "output_type": "stream",
          "name": "stdout",
          "text": [
            "Integral Aproximada: 0.8211831705366135\n"
          ]
        }
      ]
    },
    {
      "cell_type": "code",
      "source": [
        "#Punto 17\n",
        "import numpy as np\n",
        "import matplotlib.pyplot as plt\n",
        "from scipy.special import roots_laguerre\n",
        "\n",
        "def f(x):\n",
        "    return x**3 * np.exp(-x)\n",
        "\n",
        "def gauss_laguerre(n):\n",
        "    roots, peso_p = roots_laguerre(n)\n",
        "    return roots, peso_p\n",
        "\n",
        "def estimate_integral(n):\n",
        "    roots, peso_p = gauss_laguerre(n)\n",
        "    integral = np.sum(peso_p * f(roots))\n",
        "    return integral\n",
        "\n",
        "n = 3\n",
        "\n",
        "res_int = estimate_integral(n)\n",
        "print(\"Aproximación: \", res_int)\n",
        "resultado_real = np.pi**4 / 15\n",
        "puntos = range(2, 11)\n",
        "error_relativo = []\n",
        "for n in puntos:\n",
        "    aproxim = estimate_integral(n)\n",
        "    relative_error = np.abs(aproxim /resultado_real)\n",
        "    error_relativo.append(relative_error)\n",
        "plt.scatter(puntos, error_relativo, color=\"k\")\n",
        "plt.xlabel('Cantidad de Pts')\n",
        "plt.ylabel(' Error')\n",
        "plt.title('Error relativo vs Cantidad de PTS')\n",
        "plt.show()"
      ],
      "metadata": {
        "id": "xQfWOGR-JAU2",
        "colab": {
          "base_uri": "https://localhost:8080/",
          "height": 489
        },
        "outputId": "b4ae1012-df25-4863-eaf7-20bbe6a18358"
      },
      "execution_count": 37,
      "outputs": [
        {
          "output_type": "stream",
          "name": "stdout",
          "text": [
            "Aproximación:  0.37767456152975504\n"
          ]
        },
        {
          "output_type": "display_data",
          "data": {
            "text/plain": [
              "<Figure size 640x480 with 1 Axes>"
            ],
            "image/png": "[encoded data removed]"
          },
          "metadata": {}
        }
      ]
    },
    {
      "cell_type": "code",
      "source": [
        "#Punto 21\n",
        "import numpy as np\n",
        "import matplotlib.pyplot as plt\n",
        "from scipy.special import roots_legendre, legendre\n",
        "\n",
        "# (b) Implementar la función sgn(x)\n",
        "def sgn(x):\n",
        "    return np.sign(x)\n",
        "\n",
        "\n",
        "x_domain = np.linspace(-1, 1, 1000)\n",
        "f_x = sgn(x_domain)\n",
        "\n",
        "# (d) Definir los puntos y pesos de Gauss-Legendre al grado n = 15\n",
        "n_quad = 15\n",
        "x_quad, w_quad = roots_legendre(n_quad)\n",
        "\n",
        "N = 20\n",
        "P = [legendre(n) for n in range(N + 1)]  # Lista de polinomios de Legendre\n",
        "\n",
        "\n",
        "def calcular_coeficientes(N, x_quad, w_quad, f):\n",
        "    c = np.zeros(N + 1)\n",
        "    for n in range(N + 1):\n",
        "        Pn_x = P[n](x_quad)\n",
        "        integrando = f(x_quad) * Pn_x\n",
        "        integral = np.dot(w_quad, integrando)\n",
        "        c[n] = (2 * n + 1) / 2 * integral\n",
        "    return c\n",
        "\n",
        "# Calcular los coeficientes\n",
        "c_n = calcular_coeficientes(N, x_quad, w_quad, sgn)\n",
        "\n",
        "# (g) Calcular la combinación lineal para cada valor del dominio\n",
        "f_aprox = np.zeros_like(x_domain)\n",
        "for n in range(N + 1):\n",
        "    Pn_x_domain = P[n](x_domain)\n",
        "    f_aprox += c_n[n] * Pn_x_domain\n",
        "\n",
        "# (h) Dibujar la representación en la base de Legendre\n",
        "plt.figure(figsize=(8, 6))\n",
        "plt.plot(x_domain, f_x, label='sgn(x)', linewidth=2)\n",
        "plt.plot(x_domain, f_aprox, label=r'$\\sum_{n=0}^{%d} c_n P_n(x)$' % N, linewidth=2)\n",
        "plt.title('Expansión en la base de Legendre al grado n = %d' % N)\n",
        "plt.xlabel('x')\n",
        "plt.ylabel('Función')\n",
        "plt.grid(True)\n",
        "plt.legend()\n",
        "plt.show()\n"
      ],
      "metadata": {
        "id": "8YS8sjrrJAeM",
        "colab": {
          "base_uri": "https://localhost:8080/",
          "height": 565
        },
        "outputId": "4ef0f41c-0d17-4666-fe81-d6c788d4cd78"
      },
      "execution_count": 39,
      "outputs": [
        {
          "output_type": "display_data",
          "data": {
            "text/plain": [
              "<Figure size 800x600 with 1 Axes>"
            ],
            "image/png": "[encoded data removed]"
          },
          "metadata": {}
        }
      ]
    },
    {
      "cell_type": "code",
      "source": [
        "# Bono video, cuadratura adaptativa\n",
        "\n",
        "def f(x):\n",
        "  return ((x**10) - 10*x**8 + 33*x**6 - 40*x**4 + 16*x**2)\n",
        "\n",
        "# toca dos diferentes funciones\n",
        "\n",
        "def adaptive_quadrature(f, a, b, tol=1e-6, max_recursion_depth=20):\n",
        "    def adaptive_simpson(f, a, b, fa, fb, fm, I, tol, depth):\n",
        "        # Calcular los puntos intermedios\n",
        "        m = (a + b) / 2\n",
        "        h = b - a\n",
        "        lm = (a + m) / 2\n",
        "        rm = (m + b) / 2\n",
        "        flm = f(lm)\n",
        "        frm = f(rm)\n",
        "\n",
        "        # Calcular las integrales en los subintervalos\n",
        "        I1 = (h / 6) * (fa + 4*fm + fb)\n",
        "        I2 = (h / 12) * (fa + 4*flm + 2*fm + 4*frm + fb)\n",
        "\n",
        "        # Estimar el error\n",
        "        error = np.abs(I2 - I1)\n",
        "\n",
        "        if error < 15 * tol or depth >= max_recursion_depth:\n",
        "            return I2 + (I2 - I1) / 15  # Corrección de Romberg\n",
        "        else:\n",
        "\n",
        "            left = adaptive_simpson(f, a, m, fa, fm, flm, I1, tol/2, depth+1)\n",
        "            right = adaptive_simpson(f, m, b, fm, fb, frm, I1, tol/2, depth+1)\n",
        "            return left + right\n",
        "\n",
        "    fa = f(a)\n",
        "    fb = f(b)\n",
        "    fm = f((a + b) / 2)\n",
        "    initial_I = (b - a) * (fa + 4*fm + fb) / 6\n",
        "    return adaptive_simpson(f, a, b, fa, fb, fm, initial_I, tol, 0)\n",
        "\n",
        "# Definir la función de Simpson\n",
        "def simpson(f, a, b):\n",
        "    h = (b - a) / 2\n",
        "    x0 = a\n",
        "    x1 = a + h\n",
        "    x2 = b\n",
        "    return h / 3 * (f(x0) + 4 * f(x1) + f(x2))\n",
        "\n",
        "#usamos el intervalo a probar\n",
        "a = 0\n",
        "b = 2\n",
        "I = adaptive_quadrature(f, a, b)\n",
        "print(\"Valor aproximado de la integral en [0, 2]:\", I)"
      ],
      "metadata": {
        "colab": {
          "base_uri": "https://localhost:8080/"
        },
        "id": "DCk7OoRrzS7g",
        "outputId": "7190779b-a02d-4e8b-a88f-131b79216874"
      },
      "execution_count": 38,
      "outputs": [
        {
          "output_type": "stream",
          "name": "stdout",
          "text": [
            "Valor aproximado de la integral en [0, 2]: 7.388167381026417\n"
          ]
        }
      ]
    }
  ]
}